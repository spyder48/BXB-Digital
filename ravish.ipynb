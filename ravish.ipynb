{
 "cells": [
  {
   "cell_type": "code",
   "execution_count": 22,
   "metadata": {},
   "outputs": [],
   "source": [
    "import pandas as pd\n"
   ]
  },
  {
   "cell_type": "code",
   "execution_count": 24,
   "metadata": {},
   "outputs": [],
   "source": [
    "import numpy as np"
   ]
  },
  {
   "cell_type": "code",
   "execution_count": 117,
   "metadata": {},
   "outputs": [
    {
     "data": {
      "text/html": [
       "<div>\n",
       "<style scoped>\n",
       "    .dataframe tbody tr th:only-of-type {\n",
       "        vertical-align: middle;\n",
       "    }\n",
       "\n",
       "    .dataframe tbody tr th {\n",
       "        vertical-align: top;\n",
       "    }\n",
       "\n",
       "    .dataframe thead th {\n",
       "        text-align: right;\n",
       "    }\n",
       "</style>\n",
       "<table border=\"1\" class=\"dataframe\">\n",
       "  <thead>\n",
       "    <tr style=\"text-align: right;\">\n",
       "      <th></th>\n",
       "      <th>Month</th>\n",
       "      <th>TransfersInMonth</th>\n",
       "      <th>BusinessDaysInMonth</th>\n",
       "      <th>IssuesInMonth</th>\n",
       "    </tr>\n",
       "  </thead>\n",
       "  <tbody>\n",
       "    <tr>\n",
       "      <th>0</th>\n",
       "      <td>7/31/2007</td>\n",
       "      <td>867255</td>\n",
       "      <td>26.5</td>\n",
       "      <td>873516</td>\n",
       "    </tr>\n",
       "    <tr>\n",
       "      <th>1</th>\n",
       "      <td>8/31/2007</td>\n",
       "      <td>801252</td>\n",
       "      <td>22.0</td>\n",
       "      <td>872414</td>\n",
       "    </tr>\n",
       "    <tr>\n",
       "      <th>2</th>\n",
       "      <td>9/30/2007</td>\n",
       "      <td>811613</td>\n",
       "      <td>21.0</td>\n",
       "      <td>890435</td>\n",
       "    </tr>\n",
       "    <tr>\n",
       "      <th>3</th>\n",
       "      <td>10/31/2007</td>\n",
       "      <td>837920</td>\n",
       "      <td>27.5</td>\n",
       "      <td>851428</td>\n",
       "    </tr>\n",
       "    <tr>\n",
       "      <th>4</th>\n",
       "      <td>11/30/2007</td>\n",
       "      <td>801401</td>\n",
       "      <td>20.5</td>\n",
       "      <td>850625</td>\n",
       "    </tr>\n",
       "  </tbody>\n",
       "</table>\n",
       "</div>"
      ],
      "text/plain": [
       "        Month  TransfersInMonth  BusinessDaysInMonth  IssuesInMonth\n",
       "0   7/31/2007            867255                 26.5         873516\n",
       "1   8/31/2007            801252                 22.0         872414\n",
       "2   9/30/2007            811613                 21.0         890435\n",
       "3  10/31/2007            837920                 27.5         851428\n",
       "4  11/30/2007            801401                 20.5         850625"
      ]
     },
     "execution_count": 117,
     "metadata": {},
     "output_type": "execute_result"
    }
   ],
   "source": [
    "#reading Train_data.csv in pandas\n",
    "df=pd.read_csv(\"Train_data.csv\")\n",
    "df.head()"
   ]
  },
  {
   "cell_type": "code",
   "execution_count": null,
   "metadata": {},
   "outputs": [],
   "source": []
  },
  {
   "cell_type": "code",
   "execution_count": 118,
   "metadata": {},
   "outputs": [
    {
     "name": "stdout",
     "output_type": "stream",
     "text": [
      "        Month  TransfersInMonth  BusinessDaysInMonth  IssuesInMonth  \\\n",
      "0   7/31/2007            867255                 26.5         873516   \n",
      "1   8/31/2007            801252                 22.0         872414   \n",
      "2   9/30/2007            811613                 21.0         890435   \n",
      "3  10/31/2007            837920                 27.5         851428   \n",
      "4  11/30/2007            801401                 20.5         850625   \n",
      "\n",
      "   perdayTransfer  \n",
      "0    32726.603774  \n",
      "1    36420.545455  \n",
      "2    38648.238095  \n",
      "3    30469.818182  \n",
      "4    39092.731707  \n"
     ]
    }
   ],
   "source": [
    "#perdaytransfer denotes number of transfers made in a single day\n",
    "df['perdayTransfer'] = df['TransfersInMonth']/df['BusinessDaysInMonth']\n",
    "#df['TransfersInMonth'] = (df['TransfersInMonth']-df['TransfersInMonth'].mean())/df['TransfersInMonth'].std()\n",
    "print(df.head())\n",
    "from sklearn.model_selection import train_test_split\n"
   ]
  },
  {
   "cell_type": "code",
   "execution_count": 79,
   "metadata": {},
   "outputs": [],
   "source": [
    "#dividing training dataset into training data and validation data \n",
    "#input features contain TransfersInMonth, BusinessDaysInMonth and perdayTransfer\n",
    "#output feature is IssuesInMonth\n",
    "X_train,X_test,y_train, y_test = train_test_split(df[['TransfersInMonth','BusinessDaysInMonth','perdayTransfer']],df['IssuesInMonth'], test_size=0.20, random_state=42)\n",
    "#print(X_train,X_test,y_train,y_test)"
   ]
  },
  {
   "cell_type": "code",
   "execution_count": 80,
   "metadata": {},
   "outputs": [
    {
     "name": "stdout",
     "output_type": "stream",
     "text": [
      "('regr.coeff:', array([3.37920713e-01, 1.76958922e+04, 1.66605231e+01]), 'Intercept:', -425023.75581334066)\n",
      "[ 840587.7866475   934635.62925212  859857.39095256  812414.41893619\n",
      "  850753.37273145  900061.52433552  959884.32209904  860825.14927824\n",
      "  824684.9588742  1041833.15301556  792721.33683914  949540.04502118\n",
      "  929490.34926753  863141.75615264  995967.47545465  950836.73266259\n",
      " 1063496.25177412  882223.15298933  974904.19786787  997548.84222003\n",
      "  945776.27993399  810272.84034501  791769.91704248  912055.11680845]\n"
     ]
    }
   ],
   "source": [
    "#applying linear regression model on dataset\n",
    "from sklearn import linear_model\n",
    "regr = linear_model.LinearRegression()\n",
    "regr.fit(X_train,y_train)\n",
    "print(\"regr.coeff:\",regr.coef_,\"Intercept:\",regr.intercept_)\n",
    "y_pred = regr.predict(X_test)\n",
    "print(y_pred)"
   ]
  },
  {
   "cell_type": "code",
   "execution_count": 81,
   "metadata": {},
   "outputs": [
    {
     "name": "stdout",
     "output_type": "stream",
     "text": [
      "Mean squared error: 1174143062.06\n",
      "2.90191524386\n"
     ]
    }
   ],
   "source": [
    "#computing MSE and mean absolute percentage error\n",
    "from sklearn.metrics import mean_squared_error\n",
    "print(\"Mean squared error: %.2f\" % mean_squared_error(y_test,y_pred))\n",
    "def mean_absolute_percentage_error(y_Test, y_pred):\n",
    "    return np.mean(np.abs((y_Test - y_pred) / y_Test)) * 100\n",
    "print(mean_absolute_percentage_error(y_test,y_pred))"
   ]
  },
  {
   "cell_type": "code",
   "execution_count": 82,
   "metadata": {},
   "outputs": [
    {
     "name": "stdout",
     "output_type": "stream",
     "text": [
      "Variance score: 0.83\n"
     ]
    }
   ],
   "source": [
    "#computing R2 score\n",
    "from sklearn.metrics import r2_score\n",
    "print('Variance score: %.2f' % r2_score(y_test,y_pred))\n"
   ]
  },
  {
   "cell_type": "code",
   "execution_count": 95,
   "metadata": {},
   "outputs": [
    {
     "name": "stdout",
     "output_type": "stream",
     "text": [
      "        Month  TransfersInMonth  BusinessDaysInMonth  perdayTransfer\n",
      "0   7/31/2017           1056019                 27.0    39111.814815\n",
      "1   8/31/2017           1021590                 22.0    46435.909091\n",
      "2   9/30/2017           1010038                 21.0    48097.047619\n",
      "3  10/31/2017           1067153                 27.5    38805.563636\n",
      "4  11/30/2017           1042316                 20.5    50844.682927\n"
     ]
    }
   ],
   "source": [
    "#reading test_data.csv in pandas\n",
    "df_t=pd.read_csv(\"Test_data.csv\")\n",
    "df_t['perdayTransfer'] = df_t['TransfersInMonth']/df_t['BusinessDaysInMonth']\n",
    "print(df_t.head())"
   ]
  },
  {
   "cell_type": "code",
   "execution_count": 96,
   "metadata": {},
   "outputs": [
    {
     "name": "stdout",
     "output_type": "stream",
     "text": [
      "[1061239.32061224 1083148.82953076 1089224.7141344  1068747.37107388\n",
      " 1137061.21436786 1170075.52009208]\n"
     ]
    }
   ],
   "source": [
    "#x_t are input features to regression model\n",
    "x_t = df_t[['TransfersInMonth','BusinessDaysInMonth','perdayTransfer']]\n",
    "#y_t_pred are output values of testdata\n",
    "y_t_pred = regr.predict(x_t)\n",
    "y_t_pred = \n",
    "print(y_t_pred)"
   ]
  },
  {
   "cell_type": "code",
   "execution_count": 103,
   "metadata": {},
   "outputs": [
    {
     "data": {
      "text/html": [
       "<div>\n",
       "<style scoped>\n",
       "    .dataframe tbody tr th:only-of-type {\n",
       "        vertical-align: middle;\n",
       "    }\n",
       "\n",
       "    .dataframe tbody tr th {\n",
       "        vertical-align: top;\n",
       "    }\n",
       "\n",
       "    .dataframe thead th {\n",
       "        text-align: right;\n",
       "    }\n",
       "</style>\n",
       "<table border=\"1\" class=\"dataframe\">\n",
       "  <thead>\n",
       "    <tr style=\"text-align: right;\">\n",
       "      <th></th>\n",
       "      <th>Month</th>\n",
       "      <th>IssuesInMonth</th>\n",
       "    </tr>\n",
       "  </thead>\n",
       "  <tbody>\n",
       "    <tr>\n",
       "      <th>0</th>\n",
       "      <td>7/31/2017</td>\n",
       "      <td>1.061239e+06</td>\n",
       "    </tr>\n",
       "    <tr>\n",
       "      <th>1</th>\n",
       "      <td>8/31/2017</td>\n",
       "      <td>1.083149e+06</td>\n",
       "    </tr>\n",
       "    <tr>\n",
       "      <th>2</th>\n",
       "      <td>9/30/2017</td>\n",
       "      <td>1.089225e+06</td>\n",
       "    </tr>\n",
       "    <tr>\n",
       "      <th>3</th>\n",
       "      <td>10/31/2017</td>\n",
       "      <td>1.068747e+06</td>\n",
       "    </tr>\n",
       "    <tr>\n",
       "      <th>4</th>\n",
       "      <td>11/30/2017</td>\n",
       "      <td>1.137061e+06</td>\n",
       "    </tr>\n",
       "  </tbody>\n",
       "</table>\n",
       "</div>"
      ],
      "text/plain": [
       "        Month  IssuesInMonth\n",
       "0   7/31/2017   1.061239e+06\n",
       "1   8/31/2017   1.083149e+06\n",
       "2   9/30/2017   1.089225e+06\n",
       "3  10/31/2017   1.068747e+06\n",
       "4  11/30/2017   1.137061e+06"
      ]
     },
     "execution_count": 103,
     "metadata": {},
     "output_type": "execute_result"
    }
   ],
   "source": [
    "#writing output to a new dataframe submission\n",
    "Submission = pd.DataFrame(data=df_t['Month'])\n",
    "Submission['IssuesInMonth']=pd.Series(y_t_pred)\n",
    "Submission.head()"
   ]
  },
  {
   "cell_type": "code",
   "execution_count": 115,
   "metadata": {},
   "outputs": [],
   "source": [
    "#writing Submission dataframe to csv file Submission.csv\n",
    "Submission.to_csv('Submission.csv',columns=['Month','IssuesInMonth'])"
   ]
  },
  {
   "cell_type": "code",
   "execution_count": null,
   "metadata": {},
   "outputs": [],
   "source": []
  },
  {
   "cell_type": "code",
   "execution_count": null,
   "metadata": {},
   "outputs": [],
   "source": []
  }
 ],
 "metadata": {
  "kernelspec": {
   "display_name": "Python 2",
   "language": "python",
   "name": "python2"
  },
  "language_info": {
   "codemirror_mode": {
    "name": "ipython",
    "version": 2
   },
   "file_extension": ".py",
   "mimetype": "text/x-python",
   "name": "python",
   "nbconvert_exporter": "python",
   "pygments_lexer": "ipython2",
   "version": "2.7.14"
  }
 },
 "nbformat": 4,
 "nbformat_minor": 2
}
